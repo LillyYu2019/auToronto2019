{
 "cells": [
  {
   "cell_type": "code",
   "execution_count": 4,
   "metadata": {},
   "outputs": [],
   "source": [
    "import math  \n",
    "import matplotlib.pyplot as plt"
   ]
  },
  {
   "cell_type": "code",
   "execution_count": 5,
   "metadata": {},
   "outputs": [],
   "source": [
    "class point(object):\n",
    "    def __init__(self, x,y):\n",
    "        self.x=x\n",
    "        self.y=y\n",
    "        \n",
    "    def getX(self):\n",
    "        # Getter method for a Coordinate object's x coordinate.\n",
    "        # Getter methods are better practice than just accessing an attribute directly\n",
    "        return self.x\n",
    "\n",
    "    def getY(self):\n",
    "        # Getter method for a Coordinate object's y coordinate\n",
    "        return self.y\n",
    "\n",
    "    def __str__(self):\n",
    "        return '<' + str(self.getX()) + ',' + str(self.getY()) + '>'\n",
    "    \n",
    "    def __eq__(self, other):\n",
    "        return self.y == other.y and self.x == other.x\n",
    "    \n",
    "    def __repr__(self):\n",
    "        return \"Coordinate(%3.3f, %3.3f)\" % (self.x, self.y)\n",
    "    \n",
    "    def distance(self, other):\n",
    "        dx = self.x - other.x\n",
    "        dy = self.y - other.y\n",
    "        return math.sqrt(dx**2 + dy**2)\n",
    "    \n",
    "    def __add__(self,other):\n",
    "        sum_x=self.x + other.x\n",
    "        sum_y=self.y + other.y\n",
    "        return point(sum_x,sum_y)\n",
    "    \n",
    "    def __sub__(self,other):\n",
    "        dx=self.x - other.x\n",
    "        dy=self.y - other.y\n",
    "        return point(dx,dy)\n",
    "    \n",
    "    def scale(self,constant):\n",
    "        return point(self.x*constant,self.y*constant)\n",
    "    \n",
    "    def __mul__(self,other):\n",
    "        return self.x*other.x+self.y*other.y"
   ]
  },
  {
   "cell_type": "code",
   "execution_count": 6,
   "metadata": {},
   "outputs": [],
   "source": [
    "def deviation_term(old,new,alpha):\n",
    "    cost=0\n",
    "    for i in range(1,len(old)-1):\n",
    "        cost+=point.distance(old[i],new[i])**2\n",
    "    return alpha*cost"
   ]
  },
  {
   "cell_type": "code",
   "execution_count": 7,
   "metadata": {},
   "outputs": [],
   "source": [
    "def curvature_term(new,beta):\n",
    "    cost=0\n",
    "    for i in range(1,len(new)-1):\n",
    "        cost+=(new[i+1]-new[i])*(new[i]-new[i-1])/(point.distance(new[i+1],new[i]))/(point.distance(new[i],new[i-1]))\n",
    "    return -1*beta*cost"
   ]
  },
  {
   "cell_type": "code",
   "execution_count": 8,
   "metadata": {},
   "outputs": [],
   "source": [
    "def estimate_gradient(old, new, alpha, beta,epsilon):\n",
    "    \n",
    "    gradient=[point(0,0)]\n",
    "    \n",
    "    for i in range(1,len(new)-1):\n",
    "        \n",
    "        new[i]=new[i]+point(epsilon,0)\n",
    "        up_cost=deviation_term(old,new,alpha)+curvature_term(new,beta)\n",
    "        new[i]=new[i]+point(-2*epsilon,0)\n",
    "        down_cost=deviation_term(old,new,alpha)+curvature_term(new,beta)\n",
    "        gradient_x = (up_cost-down_cost) / 2 / epsilon\n",
    "        \n",
    "        \n",
    "        new[i]=new[i]+point(epsilon,epsilon)\n",
    "        up_cost=deviation_term(old,new,alpha)+curvature_term(new,beta)\n",
    "        new[i]=new[i]+point(0,-2*epsilon)\n",
    "        down_cost=deviation_term(old,new,alpha)+curvature_term(new,beta)\n",
    "        gradient_y = (up_cost-down_cost) / 2 / epsilon\n",
    "        \n",
    "        gradient.append(point(gradient_x,gradient_y))\n",
    "    \n",
    "    gradient.append(point(0,0))\n",
    "    \n",
    "    return gradient"
   ]
  },
  {
   "cell_type": "code",
   "execution_count": 9,
   "metadata": {},
   "outputs": [],
   "source": [
    "def smoothing(points,alpha=1,beta=5,epsilon=0.000001,step=0.001,max_iteration=500,stop_error=6e-4):\n",
    "\n",
    "    old=points.copy()\n",
    "    new=points.copy()\n",
    "    old_cost = 1.0\n",
    "    new_cost = 0.0\n",
    "    \n",
    "    i=0\n",
    "    \n",
    "    while abs(new_cost-old_cost) > stop_error and i <= max_iteration:\n",
    "        \n",
    "        i+=1\n",
    "        print(\"iteration: %d/%d | Error: %1.8f\" %(i,max_iteration,new_cost-old_cost))\n",
    "        \n",
    "        old_cost=new_cost\n",
    "        new_cost=deviation_term(old,new,alpha)+curvature_term(new,beta)\n",
    "\n",
    "        gradient = estimate_gradient(old, new, alpha, beta, epsilon)\n",
    "        for j in range(len(new)):\n",
    "            new[j]-=point.scale(gradient[j],step)\n",
    "        \n",
    "    return new"
   ]
  },
  {
   "cell_type": "markdown",
   "metadata": {},
   "source": [
    "Other useful functions"
   ]
  },
  {
   "cell_type": "code",
   "execution_count": 82,
   "metadata": {},
   "outputs": [],
   "source": [
    "def add_points(old_x,old_y,dy=2):\n",
    "    \n",
    "    original_plus=[point(old_x[0],old_y[0])]\n",
    "    \n",
    "    for i in range(0,len(old_x)-1):\n",
    "        z=(old_y[i+1] - old_y[i]) //dy\n",
    "        if z==0:\n",
    "            z=(old_x[i+1] - old_x[i]) //dy\n",
    "    \n",
    "        a_dx=(old_x[i+1] - old_x[i]) / z\n",
    "        a_dy=(old_y[i+1] - old_y[i]) /z\n",
    "        \n",
    "        for y in range(1,int(z+1)):\n",
    "            original_plus.append(point(old_x[i]+a_dx*y, old_y[i]+a_dy*y))\n",
    "            \n",
    "    return original_plus"
   ]
  },
  {
   "cell_type": "code",
   "execution_count": 11,
   "metadata": {},
   "outputs": [],
   "source": [
    "def xy_to_points(old_x,old_y):\n",
    "    original = []\n",
    "    for i in range(len(original_x)):\n",
    "        original.append(point(old_x[i],old_y[i]))\n",
    "    return original"
   ]
  },
  {
   "cell_type": "code",
   "execution_count": 12,
   "metadata": {},
   "outputs": [],
   "source": [
    "def points_to_xy(original):\n",
    "    x=[]\n",
    "    y=[]\n",
    "    for i in range(len(original)):\n",
    "        x.append(point.getX(original[i]))\n",
    "        y.append(point.getY(original[i]))\n",
    "    return [x,y]"
   ]
  },
  {
   "cell_type": "markdown",
   "metadata": {},
   "source": [
    "Testing"
   ]
  },
  {
   "cell_type": "code",
   "execution_count": 13,
   "metadata": {},
   "outputs": [],
   "source": [
    "old_y=[2, 6, 10, 14, 18, 22, 30, 34, 38, 42, 42, 42, 42, 42, 42]\n",
    "old_x=[2, 2, 2, 2, 2, 2,6, 6, 6, 6, 10, 14, 18, 22, 26]\n",
    "\n",
    "left_x=[0, 0, 0, 0, 0, 0, 0, 0, 0,4, 4, 4, 4, 8, 12, 16, 20, 24, 28]\n",
    "left_y=[0, 4, 8, 12, 16, 20, 24, 28, 32,32, 36, 40, 44, 44, 44, 44, 44, 44, 44]\n",
    "\n",
    "right_x=[4, 4, 4, 4, 4, 4, 8, 8, 8, 8, 8, 8, 12, 16, 20, 24, 28]\n",
    "right_y=[0, 4, 8, 12, 16, 20, 20, 24, 28, 32, 36, 40, 40, 40, 40, 40, 40]"
   ]
  },
  {
   "cell_type": "code",
   "execution_count": 14,
   "metadata": {},
   "outputs": [
    {
     "data": {
      "text/plain": [
       "<matplotlib.collections.PathCollection at 0x20ee6eff9e8>"
      ]
     },
     "execution_count": 14,
     "metadata": {},
     "output_type": "execute_result"
    },
    {
     "data": {
      "image/png": "[encoded data removed]",
      "text/plain": [
       "<Figure size 576x576 with 1 Axes>"
      ]
     },
     "metadata": {},
     "output_type": "display_data"
    }
   ],
   "source": [
    "plt.figure(figsize=(8,8))\n",
    "plt.scatter(old_x,old_y)\n",
    "plt.scatter(left_x, left_y, c='r')\n",
    "plt.scatter(right_x, right_y, c='r')"
   ]
  },
  {
   "cell_type": "code",
   "execution_count": 83,
   "metadata": {},
   "outputs": [],
   "source": [
    "original_plus=add_points(old_x,old_y)\n",
    "left_plus=add_points(left_x,left_y)\n",
    "right_plus=add_points(right_x,right_y)\n",
    "\n",
    "x_plus=points_to_xy(original_plus)[0]\n",
    "y_plus=points_to_xy(original_plus)[1]\n",
    "\n",
    "left_x_plus=points_to_xy(left_plus)[0]\n",
    "left_y_plus=points_to_xy(left_plus)[1]\n",
    "\n",
    "right_x_plus=points_to_xy(right_plus)[0]\n",
    "right_y_plus=points_to_xy(right_plus)[1]"
   ]
  },
  {
   "cell_type": "code",
   "execution_count": 84,
   "metadata": {},
   "outputs": [
    {
     "data": {
      "text/plain": [
       "<matplotlib.collections.PathCollection at 0x20ee83fe908>"
      ]
     },
     "execution_count": 84,
     "metadata": {},
     "output_type": "execute_result"
    },
    {
     "data": {
      "image/png": "[encoded data removed]",
      "text/plain": [
       "<Figure size 576x576 with 1 Axes>"
      ]
     },
     "metadata": {},
     "output_type": "display_data"
    }
   ],
   "source": [
    "plt.figure(figsize=(8,8))\n",
    "plt.scatter(x_plus,y_plus)\n",
    "plt.scatter(left_x_plus, left_y_plus, c='r')\n",
    "plt.scatter(right_x_plus, right_y_plus, c='r')"
   ]
  },
  {
   "cell_type": "code",
   "execution_count": 18,
   "metadata": {
    "scrolled": true
   },
   "outputs": [
    {
     "name": "stdout",
     "output_type": "stream",
     "text": [
      "iteration: 1/300 | Error: -1.00000000\n",
      "iteration: 2/300 | Error: -4045.21980674\n",
      "iteration: 3/300 | Error: -2.92422960\n",
      "iteration: 4/300 | Error: -2.71755913\n",
      "iteration: 5/300 | Error: -2.53360272\n",
      "iteration: 6/300 | Error: -2.36914021\n",
      "iteration: 7/300 | Error: -2.22138011\n",
      "iteration: 8/300 | Error: -2.08791553\n",
      "iteration: 9/300 | Error: -1.96668195\n",
      "iteration: 10/300 | Error: -1.85591789\n",
      "iteration: 11/300 | Error: -1.75412854\n",
      "iteration: 12/300 | Error: -1.66005265\n",
      "iteration: 13/300 | Error: -1.57263253\n",
      "iteration: 14/300 | Error: -1.49098696\n",
      "iteration: 15/300 | Error: -1.41438695\n",
      "iteration: 16/300 | Error: -1.34223389\n",
      "iteration: 17/300 | Error: -1.27404007\n",
      "iteration: 18/300 | Error: -1.20941133\n",
      "iteration: 19/300 | Error: -1.14803147\n",
      "iteration: 20/300 | Error: -1.08964859\n",
      "iteration: 21/300 | Error: -1.03406286\n",
      "iteration: 22/300 | Error: -0.98111600\n",
      "iteration: 23/300 | Error: -0.93068194\n",
      "iteration: 24/300 | Error: -0.88265902\n",
      "iteration: 25/300 | Error: -0.83696323\n",
      "iteration: 26/300 | Error: -0.79352270\n",
      "iteration: 27/300 | Error: -0.75227315\n",
      "iteration: 28/300 | Error: -0.71315440\n",
      "iteration: 29/300 | Error: -0.67610759\n",
      "iteration: 30/300 | Error: -0.64107324\n",
      "iteration: 31/300 | Error: -0.60799000\n",
      "iteration: 32/300 | Error: -0.57679376\n",
      "iteration: 33/300 | Error: -0.54741741\n",
      "iteration: 34/300 | Error: -0.51979082\n",
      "iteration: 35/300 | Error: -0.49384114\n",
      "iteration: 36/300 | Error: -0.46949326\n",
      "iteration: 37/300 | Error: -0.44667046\n",
      "iteration: 38/300 | Error: -0.42529499\n",
      "iteration: 39/300 | Error: -0.40528883\n",
      "iteration: 40/300 | Error: -0.38657436\n",
      "iteration: 41/300 | Error: -0.36907494\n",
      "iteration: 42/300 | Error: -0.35271552\n",
      "iteration: 43/300 | Error: -0.33742312\n",
      "iteration: 44/300 | Error: -0.32312725\n",
      "iteration: 45/300 | Error: -0.30976026\n",
      "iteration: 46/300 | Error: -0.29725757\n",
      "iteration: 47/300 | Error: -0.28555784\n",
      "iteration: 48/300 | Error: -0.27460314\n",
      "iteration: 49/300 | Error: -0.26433893\n",
      "iteration: 50/300 | Error: -0.25471411\n",
      "iteration: 51/300 | Error: -0.24568095\n",
      "iteration: 52/300 | Error: -0.23719502\n",
      "iteration: 53/300 | Error: -0.22921506\n",
      "iteration: 54/300 | Error: -0.22170289\n",
      "iteration: 55/300 | Error: -0.21462319\n",
      "iteration: 56/300 | Error: -0.20794343\n",
      "iteration: 57/300 | Error: -0.20163364\n",
      "iteration: 58/300 | Error: -0.19566626\n",
      "iteration: 59/300 | Error: -0.19001598\n",
      "iteration: 60/300 | Error: -0.18465958\n",
      "iteration: 61/300 | Error: -0.17957576\n",
      "iteration: 62/300 | Error: -0.17474500\n",
      "iteration: 63/300 | Error: -0.17014941\n",
      "iteration: 64/300 | Error: -0.16577261\n",
      "iteration: 65/300 | Error: -0.16159955\n",
      "iteration: 66/300 | Error: -0.15761649\n",
      "iteration: 67/300 | Error: -0.15381079\n",
      "iteration: 68/300 | Error: -0.15017086\n",
      "iteration: 69/300 | Error: -0.14668607\n",
      "iteration: 70/300 | Error: -0.14334666\n",
      "iteration: 71/300 | Error: -0.14014363\n",
      "iteration: 72/300 | Error: -0.13706871\n",
      "iteration: 73/300 | Error: -0.13411429\n",
      "iteration: 74/300 | Error: -0.13127334\n",
      "iteration: 75/300 | Error: -0.12853937\n",
      "iteration: 76/300 | Error: -0.12590638\n",
      "iteration: 77/300 | Error: -0.12336883\n",
      "iteration: 78/300 | Error: -0.12092156\n",
      "iteration: 79/300 | Error: -0.11855981\n",
      "iteration: 80/300 | Error: -0.11627914\n",
      "iteration: 81/300 | Error: -0.11407544\n",
      "iteration: 82/300 | Error: -0.11194485\n",
      "iteration: 83/300 | Error: -0.10988381\n",
      "iteration: 84/300 | Error: -0.10788896\n",
      "iteration: 85/300 | Error: -0.10595719\n",
      "iteration: 86/300 | Error: -0.10408556\n",
      "iteration: 87/300 | Error: -0.10227135\n",
      "iteration: 88/300 | Error: -0.10051198\n",
      "iteration: 89/300 | Error: -0.09880504\n",
      "iteration: 90/300 | Error: -0.09714825\n",
      "iteration: 91/300 | Error: -0.09553949\n",
      "iteration: 92/300 | Error: -0.09397674\n",
      "iteration: 93/300 | Error: -0.09245810\n",
      "iteration: 94/300 | Error: -0.09098178\n",
      "iteration: 95/300 | Error: -0.08954608\n",
      "iteration: 96/300 | Error: -0.08814941\n",
      "iteration: 97/300 | Error: -0.08679025\n",
      "iteration: 98/300 | Error: -0.08546716\n",
      "iteration: 99/300 | Error: -0.08417877\n",
      "iteration: 100/300 | Error: -0.08292380\n",
      "iteration: 101/300 | Error: -0.08170101\n",
      "iteration: 102/300 | Error: -0.08050923\n",
      "iteration: 103/300 | Error: -0.07934736\n",
      "iteration: 104/300 | Error: -0.07821432\n",
      "iteration: 105/300 | Error: -0.07710912\n",
      "iteration: 106/300 | Error: -0.07603078\n",
      "iteration: 107/300 | Error: -0.07497839\n",
      "iteration: 108/300 | Error: -0.07395108\n",
      "iteration: 109/300 | Error: -0.07294799\n",
      "iteration: 110/300 | Error: -0.07196834\n",
      "iteration: 111/300 | Error: -0.07101136\n",
      "iteration: 112/300 | Error: -0.07007630\n",
      "iteration: 113/300 | Error: -0.06916247\n",
      "iteration: 114/300 | Error: -0.06826920\n",
      "iteration: 115/300 | Error: -0.06739583\n",
      "iteration: 116/300 | Error: -0.06654175\n",
      "iteration: 117/300 | Error: -0.06570636\n",
      "iteration: 118/300 | Error: -0.06488910\n",
      "iteration: 119/300 | Error: -0.06408941\n",
      "iteration: 120/300 | Error: -0.06330676\n",
      "iteration: 121/300 | Error: -0.06254065\n",
      "iteration: 122/300 | Error: -0.06179060\n",
      "iteration: 123/300 | Error: -0.06105613\n",
      "iteration: 124/300 | Error: -0.06033679\n",
      "iteration: 125/300 | Error: -0.05963215\n",
      "iteration: 126/300 | Error: -0.05894178\n",
      "iteration: 127/300 | Error: -0.05826529\n",
      "iteration: 128/300 | Error: -0.05760228\n",
      "iteration: 129/300 | Error: -0.05695238\n",
      "iteration: 130/300 | Error: -0.05631522\n",
      "iteration: 131/300 | Error: -0.05569046\n",
      "iteration: 132/300 | Error: -0.05507777\n",
      "iteration: 133/300 | Error: -0.05447680\n",
      "iteration: 134/300 | Error: -0.05388725\n",
      "iteration: 135/300 | Error: -0.05330882\n",
      "iteration: 136/300 | Error: -0.05274121\n",
      "iteration: 137/300 | Error: -0.05218414\n",
      "iteration: 138/300 | Error: -0.05163733\n",
      "iteration: 139/300 | Error: -0.05110051\n",
      "iteration: 140/300 | Error: -0.05057344\n",
      "iteration: 141/300 | Error: -0.05005585\n",
      "iteration: 142/300 | Error: -0.04954752\n",
      "iteration: 143/300 | Error: -0.04904820\n",
      "iteration: 144/300 | Error: -0.04855767\n",
      "iteration: 145/300 | Error: -0.04807571\n",
      "iteration: 146/300 | Error: -0.04760211\n",
      "iteration: 147/300 | Error: -0.04713667\n",
      "iteration: 148/300 | Error: -0.04667919\n",
      "iteration: 149/300 | Error: -0.04622946\n",
      "iteration: 150/300 | Error: -0.04578732\n",
      "iteration: 151/300 | Error: -0.04535256\n",
      "iteration: 152/300 | Error: -0.04492503\n",
      "iteration: 153/300 | Error: -0.04450454\n",
      "iteration: 154/300 | Error: -0.04409094\n",
      "iteration: 155/300 | Error: -0.04368405\n",
      "iteration: 156/300 | Error: -0.04328373\n",
      "iteration: 157/300 | Error: -0.04288982\n",
      "iteration: 158/300 | Error: -0.04250218\n",
      "iteration: 159/300 | Error: -0.04212067\n",
      "iteration: 160/300 | Error: -0.04174513\n",
      "iteration: 161/300 | Error: -0.04137545\n",
      "iteration: 162/300 | Error: -0.04101148\n",
      "iteration: 163/300 | Error: -0.04065311\n",
      "iteration: 164/300 | Error: -0.04030020\n",
      "iteration: 165/300 | Error: -0.03995263\n",
      "iteration: 166/300 | Error: -0.03961030\n",
      "iteration: 167/300 | Error: -0.03927308\n",
      "iteration: 168/300 | Error: -0.03894087\n",
      "iteration: 169/300 | Error: -0.03861355\n",
      "iteration: 170/300 | Error: -0.03829103\n",
      "iteration: 171/300 | Error: -0.03797320\n",
      "iteration: 172/300 | Error: -0.03765996\n",
      "iteration: 173/300 | Error: -0.03735121\n",
      "iteration: 174/300 | Error: -0.03704686\n",
      "iteration: 175/300 | Error: -0.03674683\n",
      "iteration: 176/300 | Error: -0.03645101\n",
      "iteration: 177/300 | Error: -0.03615932\n",
      "iteration: 178/300 | Error: -0.03587169\n",
      "iteration: 179/300 | Error: -0.03558802\n",
      "iteration: 180/300 | Error: -0.03530823\n",
      "iteration: 181/300 | Error: -0.03503226\n",
      "iteration: 182/300 | Error: -0.03476001\n",
      "iteration: 183/300 | Error: -0.03449143\n",
      "iteration: 184/300 | Error: -0.03422642\n",
      "iteration: 185/300 | Error: -0.03396494\n",
      "iteration: 186/300 | Error: -0.03370690\n",
      "iteration: 187/300 | Error: -0.03345223\n",
      "iteration: 188/300 | Error: -0.03320089\n",
      "iteration: 189/300 | Error: -0.03295279\n",
      "iteration: 190/300 | Error: -0.03270788\n",
      "iteration: 191/300 | Error: -0.03246610\n",
      "iteration: 192/300 | Error: -0.03222738\n",
      "iteration: 193/300 | Error: -0.03199168\n",
      "iteration: 194/300 | Error: -0.03175893\n",
      "iteration: 195/300 | Error: -0.03152908\n",
      "iteration: 196/300 | Error: -0.03130207\n",
      "iteration: 197/300 | Error: -0.03107786\n",
      "iteration: 198/300 | Error: -0.03085639\n",
      "iteration: 199/300 | Error: -0.03063761\n",
      "iteration: 200/300 | Error: -0.03042148\n",
      "iteration: 201/300 | Error: -0.03020794\n",
      "iteration: 202/300 | Error: -0.02999695\n",
      "iteration: 203/300 | Error: -0.02978847\n",
      "iteration: 204/300 | Error: -0.02958244\n",
      "iteration: 205/300 | Error: -0.02937883\n",
      "iteration: 206/300 | Error: -0.02917760\n",
      "iteration: 207/300 | Error: -0.02897869\n",
      "iteration: 208/300 | Error: -0.02878209\n"
     ]
    },
    {
     "name": "stdout",
     "output_type": "stream",
     "text": [
      "iteration: 209/300 | Error: -0.02858773\n",
      "iteration: 210/300 | Error: -0.02839559\n",
      "iteration: 211/300 | Error: -0.02820562\n",
      "iteration: 212/300 | Error: -0.02801780\n",
      "iteration: 213/300 | Error: -0.02783208\n",
      "iteration: 214/300 | Error: -0.02764843\n",
      "iteration: 215/300 | Error: -0.02746681\n",
      "iteration: 216/300 | Error: -0.02728719\n",
      "iteration: 217/300 | Error: -0.02710954\n",
      "iteration: 218/300 | Error: -0.02693383\n",
      "iteration: 219/300 | Error: -0.02676001\n",
      "iteration: 220/300 | Error: -0.02658808\n",
      "iteration: 221/300 | Error: -0.02641798\n",
      "iteration: 222/300 | Error: -0.02624969\n",
      "iteration: 223/300 | Error: -0.02608320\n",
      "iteration: 224/300 | Error: -0.02591845\n",
      "iteration: 225/300 | Error: -0.02575544\n",
      "iteration: 226/300 | Error: -0.02559412\n",
      "iteration: 227/300 | Error: -0.02543448\n",
      "iteration: 228/300 | Error: -0.02527649\n",
      "iteration: 229/300 | Error: -0.02512012\n",
      "iteration: 230/300 | Error: -0.02496535\n",
      "iteration: 231/300 | Error: -0.02481215\n",
      "iteration: 232/300 | Error: -0.02466050\n",
      "iteration: 233/300 | Error: -0.02451038\n",
      "iteration: 234/300 | Error: -0.02436176\n",
      "iteration: 235/300 | Error: -0.02421462\n",
      "iteration: 236/300 | Error: -0.02406895\n",
      "iteration: 237/300 | Error: -0.02392470\n",
      "iteration: 238/300 | Error: -0.02378188\n",
      "iteration: 239/300 | Error: -0.02364045\n",
      "iteration: 240/300 | Error: -0.02350039\n",
      "iteration: 241/300 | Error: -0.02336169\n",
      "iteration: 242/300 | Error: -0.02322432\n",
      "iteration: 243/300 | Error: -0.02308827\n",
      "iteration: 244/300 | Error: -0.02295352\n",
      "iteration: 245/300 | Error: -0.02282005\n",
      "iteration: 246/300 | Error: -0.02268784\n",
      "iteration: 247/300 | Error: -0.02255687\n",
      "iteration: 248/300 | Error: -0.02242712\n",
      "iteration: 249/300 | Error: -0.02229859\n",
      "iteration: 250/300 | Error: -0.02217125\n",
      "iteration: 251/300 | Error: -0.02204508\n",
      "iteration: 252/300 | Error: -0.02192007\n",
      "iteration: 253/300 | Error: -0.02179621\n",
      "iteration: 254/300 | Error: -0.02167347\n",
      "iteration: 255/300 | Error: -0.02155185\n",
      "iteration: 256/300 | Error: -0.02143133\n",
      "iteration: 257/300 | Error: -0.02131189\n",
      "iteration: 258/300 | Error: -0.02119351\n",
      "iteration: 259/300 | Error: -0.02107620\n",
      "iteration: 260/300 | Error: -0.02095992\n",
      "iteration: 261/300 | Error: -0.02084468\n",
      "iteration: 262/300 | Error: -0.02073044\n",
      "iteration: 263/300 | Error: -0.02061721\n",
      "iteration: 264/300 | Error: -0.02050496\n",
      "iteration: 265/300 | Error: -0.02039369\n",
      "iteration: 266/300 | Error: -0.02028339\n",
      "iteration: 267/300 | Error: -0.02017403\n",
      "iteration: 268/300 | Error: -0.02006561\n"
     ]
    }
   ],
   "source": [
    "new=smoothing(original_plus,beta=70,stop_error=2e-2,step=0.0001,max_iteration=300)"
   ]
  },
  {
   "cell_type": "code",
   "execution_count": 19,
   "metadata": {
    "scrolled": false
   },
   "outputs": [
    {
     "data": {
      "text/plain": [
       "<matplotlib.collections.PathCollection at 0x20ee6fbfc50>"
      ]
     },
     "execution_count": 19,
     "metadata": {},
     "output_type": "execute_result"
    },
    {
     "data": {
      "image/png": "[encoded data removed]",
      "text/plain": [
       "<Figure size 576x576 with 1 Axes>"
      ]
     },
     "metadata": {},
     "output_type": "display_data"
    }
   ],
   "source": [
    "x_plus_op=points_to_xy(new)[0]\n",
    "y_plus_op=points_to_xy(new)[1]\n",
    "plt.figure(figsize=(8,8))\n",
    "plt.scatter(x_plus_op,y_plus_op)\n",
    "plt.scatter(left_x_plus, left_y_plus, c='r')\n",
    "plt.scatter(right_x_plus, right_y_plus, c='r')"
   ]
  },
  {
   "cell_type": "markdown",
   "metadata": {},
   "source": [
    "## B-Spline interpolation"
   ]
  },
  {
   "cell_type": "code",
   "execution_count": 1,
   "metadata": {},
   "outputs": [],
   "source": [
    "import numpy as np\n",
    "from scipy.interpolate import splev, splrep"
   ]
  },
  {
   "cell_type": "code",
   "execution_count": 80,
   "metadata": {},
   "outputs": [
    {
     "data": {
      "text/plain": [
       "15"
      ]
     },
     "execution_count": 80,
     "metadata": {},
     "output_type": "execute_result"
    }
   ],
   "source": [
    "len(old_x)"
   ]
  },
  {
   "cell_type": "code",
   "execution_count": 81,
   "metadata": {},
   "outputs": [
    {
     "data": {
      "text/plain": [
       "<matplotlib.collections.PathCollection at 0x20ee7041f28>"
      ]
     },
     "execution_count": 81,
     "metadata": {},
     "output_type": "execute_result"
    },
    {
     "data": {
      "image/png": "[encoded data removed]",
      "text/plain": [
       "<Figure size 576x576 with 1 Axes>"
      ]
     },
     "metadata": {},
     "output_type": "display_data"
    }
   ],
   "source": [
    "#non optimized,sparse points:\n",
    "t= np.linspace(0, 14,15)\n",
    "t2 = np.linspace(0, 14, 100)\n",
    "\n",
    "#x coordinate:\n",
    "spl = splrep(t, old_x)\n",
    "x_spl = splev(t2, spl)\n",
    "\n",
    "#y-coordinate:\n",
    "spl = splrep(t, old_y)\n",
    "y_spl = splev(t2, spl)\n",
    "\n",
    "plt.figure(figsize=(8,8))\n",
    "plt.scatter(x_spl, y_spl)"
   ]
  },
  {
   "cell_type": "code",
   "execution_count": 86,
   "metadata": {},
   "outputs": [
    {
     "data": {
      "text/plain": [
       "<matplotlib.collections.PathCollection at 0x20ee8598a20>"
      ]
     },
     "execution_count": 86,
     "metadata": {},
     "output_type": "execute_result"
    },
    {
     "data": {
      "image/png": "[encoded data removed]",
      "text/plain": [
       "<Figure size 576x576 with 1 Axes>"
      ]
     },
     "metadata": {},
     "output_type": "display_data"
    }
   ],
   "source": [
    "#non optimized:\n",
    "t= np.linspace(0, 100,len(x_plus))\n",
    "t2 = np.linspace(0, 100, 100)\n",
    "\n",
    "#x coordinate:\n",
    "spl = splrep(t, x_plus)\n",
    "x_spl = splev(t2, spl)\n",
    "\n",
    "#y-coordinate:\n",
    "spl = splrep(t, y_plus)\n",
    "y_spl = splev(t2, spl)\n",
    "\n",
    "plt.figure(figsize=(8,8))\n",
    "plt.scatter(x_spl, y_spl)"
   ]
  },
  {
   "cell_type": "code",
   "execution_count": 79,
   "metadata": {},
   "outputs": [
    {
     "data": {
      "text/plain": [
       "<matplotlib.collections.PathCollection at 0x20ee72a0940>"
      ]
     },
     "execution_count": 79,
     "metadata": {},
     "output_type": "execute_result"
    },
    {
     "data": {
      "image/png": "[encoded data removed]",
      "text/plain": [
       "<Figure size 576x576 with 1 Axes>"
      ]
     },
     "metadata": {},
     "output_type": "display_data"
    }
   ],
   "source": [
    "#optimized:\n",
    "t= np.linspace(0, len(x_plus)-1,61)\n",
    "t2 = np.linspace(0, 61, 100)\n",
    "\n",
    "#x coordinate:\n",
    "spl = splrep(t, x_plus_op)\n",
    "x_spl = splev(t2, spl)\n",
    "\n",
    "#y-coordinate:\n",
    "spl = splrep(t, y_plus_op)\n",
    "y_spl = splev(t2, spl)\n",
    "\n",
    "plt.figure(figsize=(8,8))\n",
    "plt.scatter(x_spl, y_spl)"
   ]
  },
  {
   "cell_type": "code",
   "execution_count": null,
   "metadata": {},
   "outputs": [],
   "source": []
  }
 ],
 "metadata": {
  "kernelspec": {
   "display_name": "Python 3",
   "language": "python",
   "name": "python3"
  },
  "language_info": {
   "codemirror_mode": {
    "name": "ipython",
    "version": 3
   },
   "file_extension": ".py",
   "mimetype": "text/x-python",
   "name": "python",
   "nbconvert_exporter": "python",
   "pygments_lexer": "ipython3",
   "version": "3.5.5"
  }
 },
 "nbformat": 4,
 "nbformat_minor": 2
}
