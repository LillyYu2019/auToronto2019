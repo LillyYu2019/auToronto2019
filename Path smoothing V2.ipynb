{
 "cells": [
  {
   "cell_type": "code",
   "execution_count": 79,
   "metadata": {},
   "outputs": [],
   "source": [
    "import math  \n",
    "import matplotlib.pyplot as plt"
   ]
  },
  {
   "cell_type": "code",
   "execution_count": 80,
   "metadata": {},
   "outputs": [],
   "source": [
    "class point(object):\n",
    "    def __init__(self, x,y):\n",
    "        self.x=x\n",
    "        self.y=y\n",
    "        \n",
    "    def getX(self):\n",
    "        # Getter method for a Coordinate object's x coordinate.\n",
    "        # Getter methods are better practice than just accessing an attribute directly\n",
    "        return self.x\n",
    "\n",
    "    def getY(self):\n",
    "        # Getter method for a Coordinate object's y coordinate\n",
    "        return self.y\n",
    "\n",
    "    def __str__(self):\n",
    "        return '<' + str(self.getX()) + ',' + str(self.getY()) + '>'\n",
    "    \n",
    "    def __eq__(self, other):\n",
    "        return self.y == other.y and self.x == other.x\n",
    "    \n",
    "    def __repr__(self):\n",
    "        return \"Coordinate(%3.3f, %3.3f)\" % (self.x, self.y)\n",
    "    \n",
    "    def distance(self, other):\n",
    "        dx = self.x - other.x\n",
    "        dy = self.y - other.y\n",
    "        return math.sqrt(dx**2 + dy**2)\n",
    "    \n",
    "    def __add__(self,other):\n",
    "        sum_x=self.x + other.x\n",
    "        sum_y=self.y + other.y\n",
    "        return point(sum_x,sum_y)\n",
    "    \n",
    "    def __sub__(self,other):\n",
    "        dx=self.x - other.x\n",
    "        dy=self.y - other.y\n",
    "        return point(dx,dy)\n",
    "    \n",
    "    def scale(self,constant):\n",
    "        return point(self.x*constant,self.y*constant)\n",
    "    \n",
    "    def __mul__(self,other):\n",
    "        return self.x*other.x+self.y*other.y"
   ]
  },
  {
   "cell_type": "code",
   "execution_count": 81,
   "metadata": {},
   "outputs": [],
   "source": [
    "def deviation_term(old,new,alpha):\n",
    "    cost=0\n",
    "    for i in range(1,len(old)-1):\n",
    "        cost+=point.distance(old[i],new[i])**2\n",
    "    return alpha*cost"
   ]
  },
  {
   "cell_type": "code",
   "execution_count": 82,
   "metadata": {},
   "outputs": [],
   "source": [
    "def curvature_term(new,beta):\n",
    "    cost=0\n",
    "    for i in range(1,len(new)-1):\n",
    "        cost+=(new[i+1]-new[i])*(new[i]-new[i-1])/(point.distance(new[i+1],new[i]))/(point.distance(new[i],new[i-1]))\n",
    "    return -1*beta*cost"
   ]
  },
  {
   "cell_type": "code",
   "execution_count": 83,
   "metadata": {},
   "outputs": [],
   "source": [
    "def boundary_term(new,left,right,theta,search=20):\n",
    "    \n",
    "    cost = 0\n",
    "    \n",
    "    for i in range(1,len(new)-1):\n",
    "        \n",
    "        if i < search:\n",
    "            start = 0\n",
    "        else:\n",
    "            start=i-search\n",
    "        \n",
    "        if len(left)-1-i < search:\n",
    "            end = len(left)\n",
    "        else:\n",
    "            end=i+search\n",
    "        \n",
    "        left_short=point.distance(left[start],new[i])\n",
    "        for y in range(start, end):\n",
    "            if point.distance(left[y],new[i]) < left_short:\n",
    "                left_short = point.distance(left[y],new[i])\n",
    "        \n",
    "        \n",
    "        if len(right)-1-i < search:\n",
    "            end = len(right)\n",
    "        else:\n",
    "            end=i+search\n",
    "        \n",
    "        right_short=point.distance(right[start],new[i])\n",
    "        for y in range(start, end):\n",
    "            if point.distance(right[y],new[i]) < right_short:\n",
    "                right_short = point.distance(right[y],new[i])\n",
    "\n",
    "        cost+=1/left_short+1/right_short\n",
    "    \n",
    "    return theta*cost"
   ]
  },
  {
   "cell_type": "code",
   "execution_count": 84,
   "metadata": {},
   "outputs": [],
   "source": [
    "def estimate_gradient(old, new, left, right, alpha, beta, theta,epsilon):\n",
    "    \n",
    "    gradient=[point(0,0)]\n",
    "    \n",
    "    for i in range(1,len(new)-1):\n",
    "        \n",
    "        new[i]=new[i]+point(epsilon,0)\n",
    "        up_cost=deviation_term(old,new,alpha)+curvature_term(new,beta)+boundary_term(new,left,right,theta)\n",
    "        new[i]=new[i]+point(-2*epsilon,0)\n",
    "        down_cost=deviation_term(old,new,alpha)+curvature_term(new,beta)+boundary_term(new,left,right,theta)\n",
    "        gradient_x = (up_cost-down_cost) / 2 / epsilon\n",
    "        \n",
    "        \n",
    "        new[i]=new[i]+point(epsilon,epsilon)\n",
    "        up_cost=deviation_term(old,new,alpha)+curvature_term(new,beta)+boundary_term(new,left,right,theta)\n",
    "        new[i]=new[i]+point(0,-2*epsilon)\n",
    "        down_cost=deviation_term(old,new,alpha)+curvature_term(new,beta)+boundary_term(new,left,right,theta)\n",
    "        gradient_y = (up_cost-down_cost) / 2 / epsilon\n",
    "        \n",
    "        gradient.append(point(gradient_x,gradient_y))\n",
    "    \n",
    "    gradient.append(point(0,0))\n",
    "    \n",
    "    return gradient"
   ]
  },
  {
   "cell_type": "code",
   "execution_count": 103,
   "metadata": {},
   "outputs": [],
   "source": [
    "def smoothing(points,left,right,alpha=1,beta=50,theta=100,epsilon=0.00001,step=0.0001,max_iteration=500,stop_error=6e-4):\n",
    "\n",
    "    old=points.copy()\n",
    "    new=points.copy()\n",
    "    old_cost = 1000.0\n",
    "    new_cost = 0.0\n",
    "    \n",
    "    i=0\n",
    "    \n",
    "    while abs(new_cost-old_cost) > stop_error and i < max_iteration:\n",
    "        \n",
    "        i+=1\n",
    "        print(\"iteration: %d/%d | Error: %1.8f\" %(i,max_iteration,new_cost-old_cost))\n",
    "        \n",
    "        old_cost=new_cost\n",
    "        new_cost=deviation_term(old,new,alpha)+curvature_term(new,beta)+boundary_term(new,left,right,theta)\n",
    "        print('deviation term: %5.8f' %(deviation_term(old,new,alpha)))\n",
    "        print('curvature term: %5.8f' %curvature_term(new,beta))\n",
    "        print('boundary term: %5.8f' %boundary_term(new,left,right,theta))\n",
    "        \n",
    "        gradient = estimate_gradient(old, new, left,right, alpha, beta, theta, epsilon)\n",
    "        for j in range(len(new)):\n",
    "            new[j]-=point.scale(gradient[j],step)\n",
    "        \n",
    "    return new"
   ]
  },
  {
   "cell_type": "markdown",
   "metadata": {},
   "source": [
    "Other useful functions"
   ]
  },
  {
   "cell_type": "code",
   "execution_count": 86,
   "metadata": {},
   "outputs": [],
   "source": [
    "def add_points(old_x,old_y,dy=1):\n",
    "    \n",
    "    original_plus=[point(old_x[0],old_y[0])]\n",
    "    \n",
    "    for i in range(0,len(old_x)-1):\n",
    "        z=(old_y[i+1] - old_y[i]) //dy\n",
    "        if z==0:\n",
    "            z=(old_x[i+1] - old_x[i]) //dy\n",
    "    \n",
    "        a_dx=(old_x[i+1] - old_x[i]) / z\n",
    "        a_dy=(old_y[i+1] - old_y[i]) /z\n",
    "        \n",
    "        for y in range(1,int(z+1)):\n",
    "            original_plus.append(point(old_x[i]+a_dx*y, old_y[i]+a_dy*y))\n",
    "            \n",
    "    return original_plus"
   ]
  },
  {
   "cell_type": "code",
   "execution_count": 87,
   "metadata": {},
   "outputs": [],
   "source": [
    "def xy_to_points(old_x,old_y):\n",
    "    original = []\n",
    "    for i in range(len(original_x)):\n",
    "        original.append(point(old_x[i],old_y[i]))\n",
    "    return original"
   ]
  },
  {
   "cell_type": "code",
   "execution_count": 88,
   "metadata": {},
   "outputs": [],
   "source": [
    "def points_to_xy(original):\n",
    "    x=[]\n",
    "    y=[]\n",
    "    for i in range(len(original)):\n",
    "        x.append(point.getX(original[i]))\n",
    "        y.append(point.getY(original[i]))\n",
    "    return [x,y]"
   ]
  },
  {
   "cell_type": "markdown",
   "metadata": {},
   "source": [
    "Testing"
   ]
  },
  {
   "cell_type": "code",
   "execution_count": 97,
   "metadata": {},
   "outputs": [],
   "source": [
    "old_y=[2, 6, 10, 14, 18, 22, 30, 34, 38, 42, 42, 42, 42, 42, 42]\n",
    "old_x=[2, 2, 2, 2, 2, 2,6, 6, 6, 6, 10, 14, 18, 22, 26]\n",
    "\n",
    "left_x=[0, 0, 0, 0, 0, 0, 0, 0, 0,4, 4, 4, 4, 8, 12, 16, 20, 24, 28]\n",
    "left_y=[0, 4, 8, 12, 16, 20, 24, 28, 32,32, 36, 40, 44, 44, 44, 44, 44, 44, 44]\n",
    "\n",
    "right_x=[4, 4, 4, 4, 4, 4, 8, 8, 8, 8, 8, 8, 12, 16, 20, 24, 28]\n",
    "right_y=[0, 4, 8, 12, 16, 20, 20, 24, 28, 32, 36, 40, 40, 40, 40, 40, 40]"
   ]
  },
  {
   "cell_type": "code",
   "execution_count": 98,
   "metadata": {},
   "outputs": [
    {
     "data": {
      "text/plain": [
       "<matplotlib.collections.PathCollection at 0xc441f30>"
      ]
     },
     "execution_count": 98,
     "metadata": {},
     "output_type": "execute_result"
    },
    {
     "data": {
      "image/png": "[encoded data removed]",
      "text/plain": [
       "<Figure size 576x576 with 1 Axes>"
      ]
     },
     "metadata": {},
     "output_type": "display_data"
    }
   ],
   "source": [
    "plt.figure(figsize=(8,8))\n",
    "plt.scatter(old_x,old_y)\n",
    "plt.scatter(left_x, left_y, c='r')\n",
    "plt.scatter(right_x, right_y, c='r')"
   ]
  },
  {
   "cell_type": "code",
   "execution_count": 99,
   "metadata": {},
   "outputs": [],
   "source": [
    "original_plus=add_points(old_x,old_y)\n",
    "left_plus=add_points(left_x,left_y)\n",
    "right_plus=add_points(right_x,right_y)\n",
    "\n",
    "x_plus=points_to_xy(original_plus)[0]\n",
    "y_plus=points_to_xy(original_plus)[1]\n",
    "\n",
    "left_x_plus=points_to_xy(left_plus)[0]\n",
    "left_y_plus=points_to_xy(left_plus)[1]\n",
    "\n",
    "right_x_plus=points_to_xy(right_plus)[0]\n",
    "right_y_plus=points_to_xy(right_plus)[1]"
   ]
  },
  {
   "cell_type": "code",
   "execution_count": 100,
   "metadata": {},
   "outputs": [
    {
     "data": {
      "text/plain": [
       "<matplotlib.collections.PathCollection at 0xc49b0b0>"
      ]
     },
     "execution_count": 100,
     "metadata": {},
     "output_type": "execute_result"
    },
    {
     "data": {
      "image/png": "[encoded data removed]",
      "text/plain": [
       "<Figure size 576x576 with 1 Axes>"
      ]
     },
     "metadata": {},
     "output_type": "display_data"
    }
   ],
   "source": [
    "plt.figure(figsize=(8,8))\n",
    "plt.scatter(x_plus,y_plus)\n",
    "plt.scatter(left_x_plus, left_y_plus, c='r')\n",
    "plt.scatter(right_x_plus, right_y_plus, c='r')"
   ]
  },
  {
   "cell_type": "code",
   "execution_count": 108,
   "metadata": {
    "scrolled": true
   },
   "outputs": [
    {
     "name": "stdout",
     "output_type": "stream",
     "text": [
      "iteration: 1/100 | Error: -1000.00000000\n",
      "deviation term: 0.00000000\n",
      "curvature term: -5778.88543820\n",
      "boundary term: 554.13410280\n",
      "iteration: 2/100 | Error: -5224.75133540\n",
      "deviation term: 0.00060896\n",
      "curvature term: -5784.80961897\n",
      "boundary term: 554.12917518\n",
      "iteration: 3/100 | Error: -5.92849944\n",
      "deviation term: 0.00230939\n",
      "curvature term: -5790.14667376\n",
      "boundary term: 554.12526320\n",
      "iteration: 4/100 | Error: -5.33926633\n",
      "deviation term: 0.00493687\n",
      "curvature term: -5794.98710662\n",
      "boundary term: 554.12140469\n",
      "iteration: 5/100 | Error: -4.84166391\n",
      "deviation term: 0.00835495\n",
      "curvature term: -5799.40312198\n",
      "boundary term: 554.11834688\n",
      "iteration: 6/100 | Error: -4.41565508\n",
      "deviation term: 0.01244871\n",
      "curvature term: -5803.45225596\n",
      "boundary term: 554.11517535\n",
      "iteration: 7/100 | Error: -4.04821176\n",
      "deviation term: 0.01712013\n",
      "curvature term: -5807.18027256\n",
      "boundary term: 554.11242527\n",
      "iteration: 8/100 | Error: -3.72609526\n",
      "deviation term: 0.02228399\n",
      "curvature term: -5810.62371900\n",
      "boundary term: 554.10949434\n",
      "iteration: 9/100 | Error: -3.44121351\n",
      "deviation term: 0.02786515\n",
      "curvature term: -5813.81189957\n",
      "boundary term: 554.10670713\n",
      "iteration: 10/100 | Error: -3.18538661\n",
      "deviation term: 0.03379626\n",
      "curvature term: -5816.76859608\n",
      "boundary term: 554.10373121\n",
      "iteration: 11/100 | Error: -2.95374133\n",
      "deviation term: 0.04001623\n",
      "curvature term: -5819.51335911\n",
      "boundary term: 554.10068867\n",
      "iteration: 12/100 | Error: -2.74158561\n",
      "deviation term: 0.04646917\n",
      "curvature term: -5822.06261828\n",
      "boundary term: 554.09748582\n",
      "iteration: 13/100 | Error: -2.54600908\n",
      "deviation term: 0.05310364\n",
      "curvature term: -5824.43048363\n",
      "boundary term: 554.09405352\n",
      "iteration: 14/100 | Error: -2.36466317\n",
      "deviation term: 0.05987233\n",
      "curvature term: -5826.62941763\n",
      "boundary term: 554.09051331\n",
      "iteration: 15/100 | Error: -2.19570552\n",
      "deviation term: 0.06673172\n",
      "curvature term: -5828.67069101\n",
      "boundary term: 554.08661662\n",
      "iteration: 16/100 | Error: -2.03831069\n",
      "deviation term: 0.07364209\n",
      "curvature term: -5830.56474701\n",
      "boundary term: 554.08268175\n",
      "iteration: 17/100 | Error: -1.89108050\n",
      "deviation term: 0.08056744\n",
      "curvature term: -5832.32142302\n",
      "boundary term: 554.07829159\n",
      "iteration: 18/100 | Error: -1.75414082\n",
      "deviation term: 0.08747559\n",
      "curvature term: -5833.95011056\n",
      "boundary term: 554.07394623\n",
      "iteration: 19/100 | Error: -1.62612475\n",
      "deviation term: 0.09433804\n",
      "curvature term: -5835.45983188\n",
      "boundary term: 554.06906925\n",
      "iteration: 20/100 | Error: -1.50773586\n",
      "deviation term: 0.10113014\n",
      "curvature term: -5836.85927899\n",
      "boundary term: 554.06432995\n",
      "iteration: 21/100 | Error: -1.39739430\n",
      "deviation term: 0.10783082\n",
      "curvature term: -5838.15681519\n",
      "boundary term: 554.05902501\n",
      "iteration: 22/100 | Error: -1.29614045\n",
      "deviation term: 0.11442267\n",
      "curvature term: -5839.36045277\n",
      "boundary term: 554.05385963\n",
      "iteration: 23/100 | Error: -1.20221112\n",
      "deviation term: 0.12089156\n",
      "curvature term: -5840.47784645\n",
      "boundary term: 554.04824737\n",
      "iteration: 24/100 | Error: -1.11653704\n",
      "deviation term: 0.12722664\n",
      "curvature term: -5841.51622205\n",
      "boundary term: 554.04269719\n",
      "iteration: 25/100 | Error: -1.03759071\n",
      "deviation term: 0.13341989\n",
      "curvature term: -5842.48240376\n",
      "boundary term: 554.03683493\n",
      "iteration: 26/100 | Error: -0.96585071\n",
      "deviation term: 0.13946600\n",
      "curvature term: -5843.38274390\n",
      "boundary term: 554.03097049\n",
      "iteration: 27/100 | Error: -0.90015848\n",
      "deviation term: 0.14536197\n",
      "curvature term: -5844.22315639\n",
      "boundary term: 554.02492284\n",
      "iteration: 28/100 | Error: -0.84056416\n",
      "deviation term: 0.15110686\n",
      "curvature term: -5845.00907591\n",
      "boundary term: 554.01881593\n",
      "iteration: 29/100 | Error: -0.78628154\n",
      "deviation term: 0.15670147\n",
      "curvature term: -5845.74549774\n",
      "boundary term: 554.01264771\n",
      "iteration: 30/100 | Error: -0.73699543\n",
      "deviation term: 0.16214807\n",
      "curvature term: -5846.43696221\n",
      "boundary term: 554.00636678\n",
      "iteration: 31/100 | Error: -0.69229880\n",
      "deviation term: 0.16745011\n",
      "curvature term: -5847.08759933\n",
      "boundary term: 554.00013885\n",
      "iteration: 32/100 | Error: -0.65156301\n",
      "deviation term: 0.17261198\n",
      "curvature term: -5847.70113111\n",
      "boundary term: 553.99374588\n",
      "iteration: 33/100 | Error: -0.61476289\n",
      "deviation term: 0.17763881\n",
      "curvature term: -5848.28091710\n",
      "boundary term: 553.98751246\n",
      "iteration: 34/100 | Error: -0.58099257\n",
      "deviation term: 0.18253621\n",
      "curvature term: -5848.82996724\n",
      "boundary term: 553.98106118\n",
      "iteration: 35/100 | Error: -0.55060403\n",
      "deviation term: 0.18731019\n",
      "curvature term: -5849.35098458\n",
      "boundary term: 553.97486854\n",
      "iteration: 36/100 | Error: -0.52243599\n",
      "deviation term: 0.19196689\n",
      "curvature term: -5849.84638300\n",
      "boundary term: 553.96841422\n"
     ]
    }
   ],
   "source": [
    "new=smoothing(original_plus,left_plus,right_plus,theta=10,beta=100,stop_error=0.5,max_iteration=100)"
   ]
  },
  {
   "cell_type": "code",
   "execution_count": 109,
   "metadata": {
    "scrolled": false
   },
   "outputs": [
    {
     "data": {
      "text/plain": [
       "<matplotlib.collections.PathCollection at 0xc6c3af0>"
      ]
     },
     "execution_count": 109,
     "metadata": {},
     "output_type": "execute_result"
    },
    {
     "data": {
      "image/png": "[encoded data removed]",
      "text/plain": [
       "<Figure size 576x576 with 1 Axes>"
      ]
     },
     "metadata": {},
     "output_type": "display_data"
    }
   ],
   "source": [
    "x_plus=points_to_xy(new)[0]\n",
    "y_plus=points_to_xy(new)[1]\n",
    "plt.figure(figsize=(8,8))\n",
    "plt.scatter(x_plus,y_plus)\n",
    "plt.scatter(left_x_plus, left_y_plus, c='r')\n",
    "plt.scatter(right_x_plus, right_y_plus, c='r')"
   ]
  },
  {
   "cell_type": "code",
   "execution_count": null,
   "metadata": {},
   "outputs": [],
   "source": []
  }
 ],
 "metadata": {
  "kernelspec": {
   "display_name": "Python 3",
   "language": "python",
   "name": "python3"
  },
  "language_info": {
   "codemirror_mode": {
    "name": "ipython",
    "version": 3
   },
   "file_extension": ".py",
   "mimetype": "text/x-python",
   "name": "python",
   "nbconvert_exporter": "python",
   "pygments_lexer": "ipython3",
   "version": "3.7.0"
  }
 },
 "nbformat": 4,
 "nbformat_minor": 2
}
